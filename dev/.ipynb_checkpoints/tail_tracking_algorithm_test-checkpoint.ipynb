{
 "cells": [
  {
   "cell_type": "markdown",
   "id": "9b6d238a-a2c7-4863-bad7-bf03a26bfbb3",
   "metadata": {},
   "source": [
    "# Replicate tail tracking algorithm from stytra\n",
    "- from `stytra/tracking/tail.py`\n",
    "- Something got fucked up when I updated jupyter-lab -- newly installed kernels crash with AsyncIO related issues when running matplotlib functions, even when conda envs are identical!"
   ]
  },
  {
   "cell_type": "code",
   "execution_count": 1,
   "id": "76a741c5-58ba-4df7-8d49-db20a4bb39a2",
   "metadata": {},
   "outputs": [],
   "source": [
    "import numpy as np\n",
    "import matplotlib\n",
    "from matplotlib import pyplot as plt\n",
    "from PIL import Image"
   ]
  },
  {
   "cell_type": "markdown",
   "id": "618dfcd1-88ca-4b30-b14a-80c24cfd59e1",
   "metadata": {},
   "source": [
    "## Load test image\n",
    "- think about thresholding etc later"
   ]
  },
  {
   "cell_type": "code",
   "execution_count": 155,
   "id": "0be237c3-877e-4369-abfe-5a51a29cdb00",
   "metadata": {},
   "outputs": [],
   "source": [
    "test_image_path = './asset/bent_tail.bmp'\n",
    "img = np.array(Image.open(test_image_path))"
   ]
  },
  {
   "cell_type": "code",
   "execution_count": 156,
   "id": "875b4d3c-2fed-48f4-8fdc-dd47bda7c1f1",
   "metadata": {},
   "outputs": [
    {
     "data": {
      "text/plain": [
       "<matplotlib.image.AxesImage at 0x25084f51420>"
      ]
     },
     "execution_count": 156,
     "metadata": {},
     "output_type": "execute_result"
    },
    {
     "data": {
      "image/png": "[encoded data removed]",
      "text/plain": [
       "<Figure size 640x480 with 1 Axes>"
      ]
     },
     "metadata": {},
     "output_type": "display_data"
    }
   ],
   "source": [
    "plt.imshow(img)"
   ]
  },
  {
   "cell_type": "markdown",
   "id": "3b925a00-f426-45e4-b460-de0b5cecb047",
   "metadata": {},
   "source": [
    "### Define tail base- and tip-points\n",
    "- Eventually this needs to be provided through a GUI\n",
    "- Here we just provide them, looking at the image"
   ]
  },
  {
   "cell_type": "code",
   "execution_count": 157,
   "id": "aa32f42c-dba3-4ae9-938f-0daad033d52a",
   "metadata": {},
   "outputs": [],
   "source": [
    "# Tail base and end, in pixel units\n",
    "base_x = 60\n",
    "base_y = 5\n",
    "tip_x = 60\n",
    "tip_y = 100\n",
    "n_seg = 7\n",
    "search_radius = 7 # pixel"
   ]
  },
  {
   "cell_type": "code",
   "execution_count": 158,
   "id": "937a5ea3-c2b9-47a7-90bc-3bc1de18a9ef",
   "metadata": {},
   "outputs": [
    {
     "data": {
      "image/png": "[encoded data removed]",
      "text/plain": [
       "<Figure size 640x480 with 1 Axes>"
      ]
     },
     "metadata": {},
     "output_type": "display_data"
    }
   ],
   "source": [
    "# visualize\n",
    "plt.figure()\n",
    "plt.imshow(img, cmap='Greys_r')\n",
    "plt.scatter(base_x, base_y, color='red')\n",
    "plt.scatter(tip_x, tip_y, color='blue')\n",
    "plt.show()"
   ]
  },
  {
   "cell_type": "markdown",
   "id": "9e95ced8-e4c1-4dbc-bb0b-ff6f7ea00189",
   "metadata": {},
   "source": [
    "## Find tail segments by recursively calculating center-of-mass\n",
    "- Provided the base and tip points as well as #segments, calculate expected point of the end of the first segment\n",
    "- Calculate COM around this expected point, within a set radius\n",
    "- Using this COM as the new \"base\" and the first base-COM vector as the template of the next segment, repeat the process\n",
    "- Repeat for the all segments"
   ]
  },
  {
   "cell_type": "code",
   "execution_count": 159,
   "id": "3632afdf-7359-47de-bf2e-18a58ca8c037",
   "metadata": {},
   "outputs": [
    {
     "name": "stdout",
     "output_type": "stream",
     "text": [
      "tail length (px): 95.0\n",
      "segment length (px): 13.571428571428571\n"
     ]
    }
   ],
   "source": [
    "# given the base and tip points and #segments, calculate first segment displacement\n",
    "length_tail = np.sqrt((tip_x-base_x)**2 + (tip_y-base_y)**2)\n",
    "length_seg = length_tail / n_seg\n",
    "\n",
    "print('tail length (px):', length_tail)\n",
    "print('segment length (px):', length_seg)"
   ]
  },
  {
   "cell_type": "code",
   "execution_count": 160,
   "id": "868f92fe-60bc-44a8-b088-5f021a579f69",
   "metadata": {},
   "outputs": [],
   "source": [
    "# in the end this needs to be speed optimized\n",
    "# stytra uses numba njit, so the function is pre-compiled\n",
    "# we just make sure to pass the values of the right type\n",
    "\n",
    "def find_tip_with_com(image, base_x, base_y, dx, dy, segment_length, radius):\n",
    "    \"\"\"\n",
    "    Given the base of the current segment and the guessed location of its tip,\n",
    "    calculate the image intensity center-of-mass (COM) around this guessed point, \n",
    "    and define the tip as the point on the base-to-COM line with the distance\n",
    "    pre-determined by the segment length.\n",
    "\n",
    "    Parameters\n",
    "    -----------\n",
    "    image : image of fish tail\n",
    "    base_x : base x of this segment (px)\n",
    "    base_y : base y of this segment (px)\n",
    "    dx : initial guess of where tip would be relative to base_x\n",
    "    dy : initial guess of where tip would be relative to base_y\n",
    "    radius : radius within which we calcualte the COM\n",
    "    \"\"\"\n",
    "    \n",
    "    # First, prepare integer indices to define the area within which we calculate COM\n",
    "    x0 = int(np.clip(base_x + dx - radius, 0, image.shape[1]))\n",
    "    x1 = int(np.clip(base_x + dx + radius, 0, image.shape[1]))\n",
    "    y0 = int(np.clip(base_y + dy - radius, 0, image.shape[0]))\n",
    "    y1 = int(np.clip(base_y + dy + radius, 0, image.shape[0]))\n",
    "    \n",
    "\n",
    "    # return invalid values if the area is entirely outside the image\n",
    "    if x0==x1 and y0==y1:\n",
    "        return -1, -1, 0, 0\n",
    "\n",
    "    # loop through all pixels in [x0, x1], [y0, y1] and calculate the product of the position & intensity\n",
    "    # would it be faster if we use numpy array? Or it doesn't matter if we do njit?\n",
    "    radius2 = radius**2\n",
    "    summed_ix = 0.0\n",
    "    summed_iy = 0.0\n",
    "    total_intensity = 0.0\n",
    "    for x in range(x0, x1):\n",
    "        for y in range(y0, y1):\n",
    "            # Make sure that the pixel we are looking at is inside the radius\n",
    "            this_pixel_dist2_from_guess = (x0+radius-x)**2 + (y0+radius-y)**2\n",
    "            if this_pixel_dist2_from_guess <= radius2:\n",
    "                summed_ix += image[y, x] * x\n",
    "                summed_iy += image[y, x] * y\n",
    "                total_intensity += image[y, x]\n",
    "\n",
    "    # if no pixel has positive value wihthin the search area, we return error (negative base_x)\n",
    "    if total_intensity==0.0:\n",
    "        return -1, -1, 0, 0\n",
    "\n",
    "    \n",
    "    # get the COM (this is in the absolute pixel coordinate)\n",
    "    com_x = summed_ix / total_intensity\n",
    "    com_y = summed_iy / total_intensity\n",
    "\n",
    "    # now, calculate new dx/dy by forcing the pre-defined segment legnth\n",
    "    length_ratio = segment_length / np.sqrt((com_x - base_x)**2 + (com_y - base_y)**2)\n",
    "    new_dx = (com_x - base_x) * length_ratio\n",
    "    new_dy = (com_y - base_y) * length_ratio\n",
    "    \n",
    "    # return values can be exactly interpreted as base_x/y, dx/y for the next iteration\n",
    "    return base_x+new_dx, base_y+new_dy, new_dx, new_dy"
   ]
  },
  {
   "cell_type": "code",
   "execution_count": 161,
   "id": "8735624a-80cc-4ad7-8146-aed94b8eeb86",
   "metadata": {},
   "outputs": [],
   "source": [
    "# The function to calculate the \"tail sum\", which is basically the relative angle of the last segment\n",
    "# Calls the tip-finding function iteratively. Gives up once it doesn't find a segment\n",
    "\n",
    "def calc_tail_angle(image, base_x, base_y, tip_x, tip_y, n_segments, radius):\n",
    "    \"\"\"\n",
    "    Given the fish image and manually defined base/tip points at rest, \n",
    "    the desired number of segments, calculate the tail angle (that is, the\n",
    "    relative angle of the last segments) by iteratively calling the \n",
    "    segment finding function. Aborts once it does not find a segment and \n",
    "    return NaN.\n",
    "\n",
    "    Parameters\n",
    "    -----------\n",
    "    image : image of fish tail\n",
    "    base_x : base x of the whole tail (px)\n",
    "    base_y : base y of the whole tail (px)\n",
    "    tip_x : tip x of the whole tail at rest (px)\n",
    "    tip_y : tip y of the whole tail at rest (px)\n",
    "    n_segments : number of segments\n",
    "    radius : radius within which we calcualte the segment tip COM (px)\n",
    "    \"\"\"\n",
    "\n",
    "    # flag to abort\n",
    "    bad_tracking_flag = False\n",
    "\n",
    "    # First, calculate the lenght of each segment\n",
    "    length_tail = np.sqrt((tip_x-base_x)**2 + (tip_y-base_y)**2)\n",
    "    length_seg = length_tail / n_seg\n",
    "\n",
    "    # define the base and estimated tip of the first segment\n",
    "    bx = base_x\n",
    "    by = base_y\n",
    "    dx = (tip_x - base_x) / n_segments\n",
    "    dy = (tip_y - base_y) / n_segments\n",
    "\n",
    "    # iteratively call the tip finding function\n",
    "    # because we only ever care about the overall tail angle, \n",
    "    # we do not log x/y positions, but just angles\n",
    "\n",
    "    angles = np.full(n_segments, np.nan)\n",
    "    for i in range(n_segments):\n",
    "        bx, by, dx, dy = find_tip_with_com(img, bx, by, dx, dy, length_seg, search_radius)\n",
    "        # if bx < 0, it means that something went wrong (tail lost etc). We just return nan\n",
    "        if bx < 0:\n",
    "            bad_tracking_flag = True\n",
    "            break\n",
    "        angles[i] = np.arctan2(dx, dy)\n",
    "\n",
    "    if bad_tracking_flag:\n",
    "        return np.nan\n",
    "    else: # we have valid tracking\n",
    "        angles = np.unwrap(angles)\n",
    "        # \"tail sum\" is the difference between the first and last segments\n",
    "        return angles[-1] - angles[0]"
   ]
  },
  {
   "cell_type": "code",
   "execution_count": 162,
   "id": "1bd4ab61-eaff-4c85-89de-f45b98c5346c",
   "metadata": {},
   "outputs": [
    {
     "name": "stdout",
     "output_type": "stream",
     "text": [
      "segment 0 tip x/y 59.36853659535516 18.556729968468872 l_seg 13.571428571428571 angle -0.0465456875069549\n",
      "segment 1 tip x/y 59.20687734873178 32.12719568477238 l_seg 13.571428571428571 angle -0.01191201567118605\n",
      "segment 2 tip x/y 58.38602829974874 45.67377755283679 l_seg 13.571428571428571 angle -0.060520552517452544\n",
      "segment 3 tip x/y 55.32497115075007 58.89548707165287 l_seg 13.57142857142857 angle -0.22750916798424758\n",
      "segment 4 tip x/y 50.280859732783036 71.49471774152008 l_seg 13.571428571428571 angle -0.38080870916445175\n",
      "segment 5 tip x/y 42.962724362277115 82.92400329085946 l_seg 13.571428571428571 angle -0.5695237441683122\n",
      "segment 6 tip x/y 32.44967512979613 91.50651279011541 l_seg 13.57142857142857 angle -0.8861547039650663\n"
     ]
    }
   ],
   "source": [
    "bx = base_x\n",
    "by = base_y\n",
    "dx = (tip_x - base_x) / n_seg\n",
    "dy = (tip_y - base_y) / n_seg\n",
    "\n",
    "segments = [(bx, by)]\n",
    "\n",
    "for i in range(n_seg):\n",
    "    bx, by, dx, dy = find_tip_with_com(img, bx, by, dx, dy, length_seg, search_radius)\n",
    "    angle = np.arctan2(dx, dy)\n",
    "    segments.append((bx, by))\n",
    "    print('segment', i, 'tip x/y', bx, by, 'l_seg', np.sqrt(dx**2+dy**2), 'angle', angle)"
   ]
  },
  {
   "cell_type": "code",
   "execution_count": 163,
   "id": "b2ace05b-1b79-4aba-b720-4478536b5d6e",
   "metadata": {},
   "outputs": [
    {
     "data": {
      "image/png": "[encoded data removed]",
      "text/plain": [
       "<Figure size 640x480 with 1 Axes>"
      ]
     },
     "metadata": {},
     "output_type": "display_data"
    }
   ],
   "source": [
    "# visualize\n",
    "segments = np.asarray(segments)\n",
    "\n",
    "plt.figure()\n",
    "plt.imshow(img, cmap='Greys_r')\n",
    "plt.scatter(segments[:, 0], segments[:, 1], c=np.arange(n_seg+1))\n",
    "plt.show()"
   ]
  },
  {
   "cell_type": "code",
   "execution_count": 164,
   "id": "05eef187-65f2-424b-899f-6cfd5d1a6f93",
   "metadata": {},
   "outputs": [
    {
     "name": "stdout",
     "output_type": "stream",
     "text": [
      "-0.8396090164581115\n"
     ]
    }
   ],
   "source": [
    "# comaprtmentalized in a function\n",
    "print(calc_tail_angle(img, base_x, base_y, tip_x, tip_y, 7, 10))"
   ]
  },
  {
   "cell_type": "code",
   "execution_count": 154,
   "id": "0bce0953-964b-41ed-8e41-aa79a428604e",
   "metadata": {},
   "outputs": [
    {
     "data": {
      "text/plain": [
       "nan"
      ]
     },
     "execution_count": 154,
     "metadata": {},
     "output_type": "execute_result"
    }
   ],
   "source": []
  },
  {
   "cell_type": "code",
   "execution_count": null,
   "id": "bcb1a98a-2103-4dab-b571-01d7af4c5542",
   "metadata": {},
   "outputs": [],
   "source": []
  }
 ],
 "metadata": {
  "kernelspec": {
   "display_name": "ofmemory_mini",
   "language": "python",
   "name": "ofmemory_mini"
  },
  "language_info": {
   "codemirror_mode": {
    "name": "ipython",
    "version": 3
   },
   "file_extension": ".py",
   "mimetype": "text/x-python",
   "name": "python",
   "nbconvert_exporter": "python",
   "pygments_lexer": "ipython3",
   "version": "3.10.6"
  }
 },
 "nbformat": 4,
 "nbformat_minor": 5
}

{
 "cells": [
  {
   "cell_type": "markdown",
   "id": "fd43bf6b-322b-406c-9640-39384f3ecef0",
   "metadata": {},
   "source": [
    "## Camera API Test\n",
    "- Probably it makes sense to write a camera interface class for each camera manufactuerer so things are modular (as in `stytra/hardware/video/cameras/interface.py`)\n",
    "- For now, lets's just implement whatever at the hand, implement other things later if needed\n",
    "- Probably different cameras are sold in Japan?"
   ]
  },
  {
   "cell_type": "markdown",
   "id": "710ae194-8674-4cc0-a111-bf25d396aa40",
   "metadata": {},
   "source": [
    "## Spinnaker\n",
    "- Download Spinnaker from here: https://www.teledynevisionsolutions.com/products/spinnaker-sdk/\n",
    "    - Install Spinnaker first \n",
    "    - Install PySpin from the downloaded .whl file using pip (make sure that the SDK itself and pyspin versions match)\n",
    "- Follow the instruction in README.md"
   ]
  },
  {
   "cell_type": "code",
   "execution_count": 6,
   "id": "01025c06-0cf2-41be-bc00-20e82469833e",
   "metadata": {},
   "outputs": [],
   "source": [
    "import numpy as np\n",
    "import PySpin\n",
    "from matplotlib import pyplot as plt"
   ]
  },
  {
   "cell_type": "markdown",
   "id": "4ef6bffa-e5cf-45fa-827c-1b9cacfeb41c",
   "metadata": {},
   "source": [
    "### Camera initialization"
   ]
  },
  {
   "cell_type": "code",
   "execution_count": 14,
   "id": "9d3a5d97-7da5-467e-aef6-6a6c424a43f1",
   "metadata": {},
   "outputs": [],
   "source": [
    "# access 'system' (whatever that is), and get the camera\n",
    "system = PySpin.System.GetInstance()\n",
    "camera = system.GetCameras()[0]"
   ]
  },
  {
   "cell_type": "code",
   "execution_count": 15,
   "id": "9d3f6ad9-8e2c-499b-a1b0-807e34919578",
   "metadata": {},
   "outputs": [],
   "source": [
    "camera.Init() # initialization\n",
    "nodemap = camera.GetNodeMap() # this is like a table (map) of the memory addresses of the camera which we want to read write"
   ]
  },
  {
   "cell_type": "markdown",
   "id": "520c36dc-f24b-403f-8201-562ecf9cd16d",
   "metadata": {},
   "source": [
    "### Acquisition settings\n",
    "- For camera control in general, we need to get the \"node\", which is like the memory address controlling specific aspects of the camera behavior, and write values there.\n",
    "#### Continuous mode"
   ]
  },
  {
   "cell_type": "code",
   "execution_count": 18,
   "id": "b62bc264-9a1a-4179-8f04-7a575e9917fc",
   "metadata": {},
   "outputs": [],
   "source": [
    "# get the node (like address?) that controls the acquisition mode\n",
    "node_acqmode = PySpin.CEnumerationPtr(nodemap.GetNode(\"AcquisitionMode\"))\n",
    "\n",
    "# check if such a thing exists, or is writable (do we need this? when would this fail?)\n",
    "if not PySpin.IsAvailable(node_acqmode) or not PySpin.IsWritable(node_acqmode):\n",
    "    print('Acquisition Mode Node is either not available or writable')"
   ]
  },
  {
   "cell_type": "code",
   "execution_count": 19,
   "id": "18e8f2ed-9a99-4c18-9365-eedb3bbad383",
   "metadata": {},
   "outputs": [],
   "source": [
    "# Now look at the nodemap again to find what do we need to write in the acquisition mode node to make it continuous\n",
    "node_contmode = node_acqmode.GetEntryByName('Continuous')\n",
    "\n",
    "# check if such a thing exists, or is readable (do we need this? when would this fail?)\n",
    "if not PySpin.IsAvailable(node_contmode) or not PySpin.IsReadable(node_contmode):\n",
    "    print('Somehting wrong with continous acquisition mode node')"
   ]
  },
  {
   "cell_type": "code",
   "execution_count": 20,
   "id": "05de9abe-43de-4546-8734-b900004cc286",
   "metadata": {},
   "outputs": [],
   "source": [
    "# Finally write the damn thing\n",
    "int_val_for_contmode = node_contmode.GetValue()\n",
    "node_acqmode.SetIntValue(int_val_for_contmode)"
   ]
  },
  {
   "cell_type": "markdown",
   "id": "7967eb53-63a2-49d3-9bdc-79ad00a196a3",
   "metadata": {},
   "source": [
    "#### ROI setting\n",
    "- Maybe jut leave this to GUI"
   ]
  },
  {
   "cell_type": "code",
   "execution_count": 23,
   "id": "dc28829e-383f-4948-8a5d-c6917d679f4c",
   "metadata": {},
   "outputs": [],
   "source": [
    "# get nodes for ROI coordinates\n",
    "roi_node_names = ['Width', 'Height', 'OffsetX', 'OffsetY']\n",
    "roi_nodes = [PySpin.CIntegerPtr(nodemap.GetNode(n))]\n",
    "\n",
    "\n",
    "node_w = PySpin.CIntegerPtr(nodemap.GetNode('Width'))\n",
    "node_h = PySpin.CIntegerPtr(nodemap.GetNode('Height'))\n",
    "node_ox = PySpin.CIntegerPtr(nodemap.GetNode('OffsetX'))\n",
    "node_oy = PySpin.CIntegerPtr(nodemap.GetNode('OffsetY'))\n",
    "roi_nodes "
   ]
  },
  {
   "cell_type": "code",
   "execution_count": 28,
   "id": "df199fce-d4d0-40f6-8989-0fa70f139fcd",
   "metadata": {},
   "outputs": [
    {
     "name": "stdout",
     "output_type": "stream",
     "text": [
      "Allowed increments for width: 16\n",
      "Min for width: 16\n",
      "Max for width: 1184\n"
     ]
    }
   ],
   "source": [
    "print('Allowed increments for width:', node_w.GetInc())\n",
    "print('Min for width:', node_w.GetMin())\n",
    "print('Max for width:', node_w.GetMax())\n",
    "print('Current ')"
   ]
  },
  {
   "cell_type": "code",
   "execution_count": null,
   "id": "8e5c62c4-2041-430e-ba95-9e1e40ae41e8",
   "metadata": {},
   "outputs": [],
   "source": []
  }
 ],
 "metadata": {
  "kernelspec": {
   "display_name": "test0",
   "language": "python",
   "name": "test0"
  },
  "language_info": {
   "codemirror_mode": {
    "name": "ipython",
    "version": 3
   },
   "file_extension": ".py",
   "mimetype": "text/x-python",
   "name": "python",
   "nbconvert_exporter": "python",
   "pygments_lexer": "ipython3",
   "version": "3.10.6"
  }
 },
 "nbformat": 4,
 "nbformat_minor": 5
}

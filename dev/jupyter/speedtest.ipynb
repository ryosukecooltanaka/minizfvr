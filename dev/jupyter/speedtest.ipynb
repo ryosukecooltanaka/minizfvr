{
 "cells": [
  {
   "cell_type": "markdown",
   "id": "452b040c-0253-4728-9080-5ad23e86676b",
   "metadata": {},
   "source": [
    "- njit helps when things are loopy\n",
    "- use packages as much as possible"
   ]
  },
  {
   "cell_type": "code",
   "execution_count": 16,
   "id": "413dcde3-f5c8-4040-b45e-eba297c4d982",
   "metadata": {},
   "outputs": [],
   "source": [
    "import cv2\n",
    "import numpy as np\n",
    "from time import time\n",
    "from numba import njit"
   ]
  },
  {
   "cell_type": "code",
   "execution_count": 17,
   "id": "1e609094-90c7-4783-91f7-546e5d4c9ae3",
   "metadata": {},
   "outputs": [],
   "source": [
    "im = np.random.randint(0, 255, (300, 300), dtype=np.uint8)"
   ]
  },
  {
   "cell_type": "code",
   "execution_count": 14,
   "id": "0ec2fd35-f3eb-451c-b080-53b26c12990a",
   "metadata": {},
   "outputs": [
    {
     "name": "stdout",
     "output_type": "stream",
     "text": [
      "11.00 ms per 1000 rep\n"
     ]
    }
   ],
   "source": [
    "t_start = time()\n",
    "\n",
    "for i in range(1000):\n",
    "    cv2.threshold(src=im, thresh=100, maxval=255, type=cv2.THRESH_TOZERO)[1]\n",
    "\n",
    "print('{:0.2f} ms per 1000 rep'.format((time()-t_start)*1000))"
   ]
  },
  {
   "cell_type": "code",
   "execution_count": 15,
   "id": "fe666558-53f6-45bc-8d23-c7be254767d1",
   "metadata": {},
   "outputs": [
    {
     "name": "stdout",
     "output_type": "stream",
     "text": [
      "174.02 ms per 1000 rep\n"
     ]
    }
   ],
   "source": [
    "t_start = time()\n",
    "\n",
    "for i in range(1000):\n",
    "    (im > 100) * (im - 100)\n",
    "\n",
    "print('{:0.2f} ms per 1000 rep'.format((time()-t_start)*1000))"
   ]
  },
  {
   "cell_type": "code",
   "execution_count": 20,
   "id": "c349600a-fdc6-45fc-aa38-e0875f0ff39c",
   "metadata": {},
   "outputs": [
    {
     "name": "stdout",
     "output_type": "stream",
     "text": [
      "272.61 ms per 1000 rep\n"
     ]
    }
   ],
   "source": [
    "@njit\n",
    "def thresh(im):\n",
    "    return (im > 100) * (im - 100)\n",
    "\n",
    "t_start = time()\n",
    "for i in range(1000):\n",
    "    thresh(im)\n",
    "\n",
    "print('{:0.2f} ms per 1000 rep'.format((time()-t_start)*1000))"
   ]
  },
  {
   "cell_type": "code",
   "execution_count": 21,
   "id": "1f932cea-b9f4-4275-852d-b6710b720fb3",
   "metadata": {},
   "outputs": [],
   "source": [
    "a = np.arange(10000)"
   ]
  },
  {
   "cell_type": "code",
   "execution_count": 23,
   "id": "0f817c38-7cf4-4c78-9854-e6fbd5d6ca02",
   "metadata": {},
   "outputs": [],
   "source": [
    "def f0(x):\n",
    "    return [xx*2 for xx in x]\n",
    "\n",
    "@njit\n",
    "def f1(x):\n",
    "    return [xx*2 for xx in x]"
   ]
  },
  {
   "cell_type": "code",
   "execution_count": 24,
   "id": "b3559b01-d46e-4dfd-9473-57e7b3829b13",
   "metadata": {},
   "outputs": [
    {
     "name": "stdout",
     "output_type": "stream",
     "text": [
      "1032.06 ms per 1000 rep\n"
     ]
    }
   ],
   "source": [
    "t_start = time()\n",
    "for i in range(1000):\n",
    "    f0(a)\n",
    "print('{:0.2f} ms per 1000 rep'.format((time()-t_start)*1000))"
   ]
  },
  {
   "cell_type": "code",
   "execution_count": 25,
   "id": "abc464e0-3e0f-4ca8-8c5c-d610b890b201",
   "metadata": {},
   "outputs": [
    {
     "name": "stdout",
     "output_type": "stream",
     "text": [
      "394.01 ms per 1000 rep\n"
     ]
    }
   ],
   "source": [
    "t_start = time()\n",
    "for i in range(1000):\n",
    "    f1(a)\n",
    "print('{:0.2f} ms per 1000 rep'.format((time()-t_start)*1000))"
   ]
  },
  {
   "cell_type": "markdown",
   "id": "20112bf3-0370-4590-a737-46756eecd06d",
   "metadata": {},
   "source": [
    "## radius check -- loop or mask?"
   ]
  },
  {
   "cell_type": "code",
   "execution_count": 30,
   "id": "70d3f05e-42eb-4c3e-b7e2-58817a39a5d8",
   "metadata": {},
   "outputs": [],
   "source": [
    "im = np.random.randint(0, 255, (21,21))\n",
    "xx = np.arange(-10,11)"
   ]
  },
  {
   "cell_type": "code",
   "execution_count": 35,
   "id": "813489d1-a1f6-4bea-a4fa-f88e53fb4aa6",
   "metadata": {},
   "outputs": [
    {
     "name": "stdout",
     "output_type": "stream",
     "text": [
      "3517\n",
      "57.00 ms per 1000 rep\n"
     ]
    }
   ],
   "source": [
    "t_start = time()\n",
    "for i in range(1000):\n",
    "    XX, YY = np.meshgrid(xx, xx)\n",
    "    RR = (XX**2 + YY**2)\n",
    "    hoge = np.sum(XX * im * (RR<100))\n",
    "print(hoge)\n",
    "print('{:0.2f} ms per 1000 rep'.format((time()-t_start)*1000))"
   ]
  },
  {
   "cell_type": "code",
   "execution_count": 38,
   "id": "a5fda07a-5646-4ab1-b3a9-3cabdfd1d04b",
   "metadata": {},
   "outputs": [],
   "source": [
    "@njit\n",
    "def loopyway(im):\n",
    "    acc = 0.0\n",
    "    for i in range(im.shape[0]):\n",
    "        for j in range(im.shape[1]):\n",
    "            if ((i-10)**2 + (j-10)**2) < 100:\n",
    "                acc += (j-10) * im[i, j]\n",
    "    return acc"
   ]
  },
  {
   "cell_type": "code",
   "execution_count": 39,
   "id": "d5f56e8b-0d62-415a-9740-201750f9d311",
   "metadata": {},
   "outputs": [
    {
     "name": "stdout",
     "output_type": "stream",
     "text": [
      "3517.0\n",
      "194.00 ms per 1000 rep\n"
     ]
    }
   ],
   "source": [
    "t_start = time()\n",
    "for i in range(1000):\n",
    "    hoge = loopyway(im)\n",
    "print(hoge)\n",
    "print('{:0.2f} ms per 1000 rep'.format((time()-t_start)*1000))"
   ]
  },
  {
   "cell_type": "code",
   "execution_count": 40,
   "id": "f9cbe613-68bf-4cf6-a9fc-556f1e1e11b4",
   "metadata": {},
   "outputs": [
    {
     "data": {
      "text/plain": [
       "array([-7, -6, -5, -4, -3, -2, -1,  0,  1,  2,  3,  4,  5,  6,  7])"
      ]
     },
     "execution_count": 40,
     "metadata": {},
     "output_type": "execute_result"
    }
   ],
   "source": [
    "np.arange(-7, 7+1)"
   ]
  },
  {
   "cell_type": "code",
   "execution_count": null,
   "id": "dceafcb2-2706-42e7-a10a-46b0dc2fe9a6",
   "metadata": {},
   "outputs": [],
   "source": []
  }
 ],
 "metadata": {
  "kernelspec": {
   "display_name": "test0",
   "language": "python",
   "name": "test0"
  },
  "language_info": {
   "codemirror_mode": {
    "name": "ipython",
    "version": 3
   },
   "file_extension": ".py",
   "mimetype": "text/x-python",
   "name": "python",
   "nbconvert_exporter": "python",
   "pygments_lexer": "ipython3",
   "version": "3.10.6"
  }
 },
 "nbformat": 4,
 "nbformat_minor": 5
}

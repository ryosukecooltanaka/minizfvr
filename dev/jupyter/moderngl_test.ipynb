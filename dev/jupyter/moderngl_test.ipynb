{
 "cells": [
  {
   "cell_type": "markdown",
   "id": "e88fa933-e0e2-426b-b24e-a787dde6e1de",
   "metadata": {},
   "source": [
    "# How can I render triangles and points together?"
   ]
  },
  {
   "cell_type": "code",
   "execution_count": 405,
   "id": "79d693a2-e217-41f4-9ad4-9cc476e0f393",
   "metadata": {},
   "outputs": [],
   "source": [
    "import numpy as np\n",
    "import moderngl\n",
    "from PIL import Image\n",
    "from matplotlib import pyplot as plt\n",
    "import re"
   ]
  },
  {
   "cell_type": "code",
   "execution_count": 288,
   "id": "c8a8264b-df5c-45b4-911b-913b861ab3d5",
   "metadata": {},
   "outputs": [],
   "source": [
    "ctx = moderngl.create_standalone_context()\n",
    "ctx.enable(moderngl.DEPTH_TEST)\n",
    "ctx.enable(moderngl.PROGRAM_POINT_SIZE)"
   ]
  },
  {
   "cell_type": "code",
   "execution_count": 403,
   "id": "a6378dd0-5631-489a-bc8f-35842dd93163",
   "metadata": {},
   "outputs": [],
   "source": [
    "with open('./vsh.glsl' , 'r') as f:\n",
    "    vsh = f.read()"
   ]
  },
  {
   "cell_type": "code",
   "execution_count": 413,
   "id": "987f2edf-1329-4c2a-8253-c685cabb42f9",
   "metadata": {},
   "outputs": [
    {
     "name": "stdout",
     "output_type": "stream",
     "text": [
      "['# version 330', '', 'in vec2 input_vertices', '', 'out vec2 vpos', '', '', '', 'void main(){', '  gl_Position = vec4(input_vertices, 0.0, 1.0)', '', '  vpos = input_vertices * 0.5 + 0.5', '', '}']\n"
     ]
    }
   ],
   "source": [
    "lines = re.split('\\n|;', vsh)\n",
    "print(lines)"
   ]
  },
  {
   "cell_type": "code",
   "execution_count": 419,
   "id": "d73b533f-04b8-4412-b03b-ef9044a34c1c",
   "metadata": {},
   "outputs": [
    {
     "name": "stdout",
     "output_type": "stream",
     "text": [
      "in vec2 input_vertices\n"
     ]
    }
   ],
   "source": [
    "for line in lines:\n",
    "    if re.split('\\s',line)[0]=='in':\n",
    "        print(line)"
   ]
  },
  {
   "cell_type": "code",
   "execution_count": 388,
   "id": "cf89408e-d38f-439f-85e7-ec6fbd22311d",
   "metadata": {},
   "outputs": [],
   "source": [
    "purple_triangle_prog = ctx.program(\n",
    "    vertex_shader=\"\"\"\n",
    "\n",
    "    # version 330\n",
    "    \n",
    "    in vec2 input_vertices;\n",
    "    out vec2 vpos;\n",
    "    \n",
    "    \n",
    "    void main(){\n",
    "      gl_Position = vec4(input_vertices, 0.0, 1.0);\n",
    "      vpos = input_vertices * 0.5 + 0.5;\n",
    "    }\n",
    "    \n",
    "    \"\"\",\n",
    "    geometry_shader=None,\n",
    "    fragment_shader=\"\"\"\n",
    "    # version 330\n",
    "\n",
    "    in vec2 vpos;\n",
    "    uniform vec3 hoge;\n",
    "    void main(){\n",
    "      gl_FragColor = vec4(vpos.x, sin(vpos.y * 30.0)*0.5+0.5, vpos.y, 1.0) + vec4(hoge, 0.0);\n",
    "    }\n",
    "\n",
    "    \"\"\"\n",
    ")"
   ]
  },
  {
   "cell_type": "code",
   "execution_count": 455,
   "id": "7094a6c9-89e6-4f13-a22d-7e1fdfd9a4c7",
   "metadata": {},
   "outputs": [],
   "source": [
    "white_dot_prog = ctx.program(\n",
    "    vertex_shader=\"\"\"\n",
    "\n",
    "    # version 330\n",
    "    \n",
    "    in vec2 input_vertices;\n",
    "    \n",
    "    void main(){\n",
    "      gl_Position = vec4(input_vertices, input_vertices.x, 1.0);\n",
    "      gl_PointSize = 4.0;\n",
    "    }\n",
    "    \n",
    "    \"\"\",\n",
    "    fragment_shader=\"\"\"\n",
    "    # version 330\n",
    "    uniform float hoge;\n",
    "    void main(){\n",
    "      float scaled_z = gl_FragCoord.z * 0.5 + 0.5;\n",
    "      gl_FragColor = vec4(hoge, 1.0-hoge, scaled_z, 1.0);\n",
    "    }\n",
    "\n",
    "    \"\"\"\n",
    ")"
   ]
  },
  {
   "cell_type": "code",
   "execution_count": 456,
   "id": "b660121e-8128-4767-b348-7e93ab070ccb",
   "metadata": {},
   "outputs": [],
   "source": [
    "v1 = np.asarray((\n",
    "    (-0.6, 0.6),\n",
    "    (0.6, 0.6),\n",
    "    (0, -0.6)\n",
    "))"
   ]
  },
  {
   "cell_type": "code",
   "execution_count": 457,
   "id": "d6ff6b15-5a7b-4235-9dba-9f89e9d30132",
   "metadata": {},
   "outputs": [],
   "source": [
    "v2 = np.random.rand(500, 2) * 2.0 - 1.0"
   ]
  },
  {
   "cell_type": "code",
   "execution_count": 458,
   "id": "8c53b08c-1d16-4deb-9235-470b71d5f369",
   "metadata": {},
   "outputs": [],
   "source": [
    "vbo1 = ctx.buffer(v1.astype('f4').tobytes())\n",
    "vao1 = ctx.simple_vertex_array(purple_triangle_prog, vbo1, 'input_vertices')"
   ]
  },
  {
   "cell_type": "code",
   "execution_count": 459,
   "id": "6f3c4d9c-1d13-400f-aa5c-9055b986f2ae",
   "metadata": {},
   "outputs": [],
   "source": [
    "vbo2 = ctx.buffer(v2.astype('f4').tobytes())\n",
    "vao2 = ctx.simple_vertex_array(white_dot_prog, vbo2, 'input_vertices')"
   ]
  },
  {
   "cell_type": "code",
   "execution_count": 460,
   "id": "99ea81c4-7e24-4f04-a25b-54fb1100e2c6",
   "metadata": {},
   "outputs": [],
   "source": [
    "fbo = ctx.simple_framebuffer((300, 300))\n",
    "fbo.use()\n"
   ]
  },
  {
   "cell_type": "code",
   "execution_count": 506,
   "id": "de0fbde9-df92-43b0-91ef-5195550f8c62",
   "metadata": {},
   "outputs": [
    {
     "data": {
      "text/plain": [
       "(1, 1)"
      ]
     },
     "execution_count": 506,
     "metadata": {},
     "output_type": "execute_result"
    }
   ],
   "source": [
    "(1,) * 2"
   ]
  },
  {
   "cell_type": "code",
   "execution_count": 508,
   "id": "77e83ffd-4b13-4f8d-a721-5f5a7881fbcb",
   "metadata": {},
   "outputs": [],
   "source": [
    "white_dot_prog['hoge'].value = np.ones(1)"
   ]
  },
  {
   "cell_type": "code",
   "execution_count": 509,
   "id": "d55e43c9-237a-474b-9eeb-b809c2b851e1",
   "metadata": {},
   "outputs": [],
   "source": [
    "fbo.clear(0.0, 0.0, 0.0, 1.0)\n",
    "vao2.render(moderngl.POINTS)\n",
    "vao1.render(moderngl.TRIANGLES)\n"
   ]
  },
  {
   "cell_type": "code",
   "execution_count": 510,
   "id": "cf2dafd0-d7d0-4890-9218-684eab5e4e22",
   "metadata": {},
   "outputs": [
    {
     "data": {
      "image/png": "[encoded data removed]",
      "text/plain": [
       "<Figure size 640x480 with 1 Axes>"
      ]
     },
     "metadata": {},
     "output_type": "display_data"
    }
   ],
   "source": [
    "img = np.asarray(Image.frombytes('RGB', fbo.size, fbo.read()))\n",
    "\n",
    "plt.imshow(img)\n",
    "plt.show()"
   ]
  },
  {
   "cell_type": "code",
   "execution_count": 511,
   "id": "ad1c7105-44f8-4124-b9b6-21dd3be61b86",
   "metadata": {},
   "outputs": [
    {
     "data": {
      "text/plain": [
       "(300, 300, 3)"
      ]
     },
     "execution_count": 511,
     "metadata": {},
     "output_type": "execute_result"
    }
   ],
   "source": [
    "img.shape"
   ]
  },
  {
   "cell_type": "code",
   "execution_count": 438,
   "id": "9fc90387-669c-4068-ada1-1fea345a2749",
   "metadata": {},
   "outputs": [
    {
     "name": "stdout",
     "output_type": "stream",
     "text": [
      "input width 242155\n"
     ]
    }
   ],
   "source": [
    "key = 'vec242155'\n",
    "temp = re.search('[0-9]+',key)\n",
    "if temp is None:\n",
    "    print('scalar input')\n",
    "else:\n",
    "    print('input width', int(temp.group()))"
   ]
  },
  {
   "cell_type": "code",
   "execution_count": 422,
   "id": "09effb51-0fb0-4b46-bfeb-8b5ffc88ea4b",
   "metadata": {},
   "outputs": [],
   "source": [
    "a = [1, 2, 3]\n",
    "b = [1, 2, 4]\n",
    "c = [234, 1234]"
   ]
  },
  {
   "cell_type": "code",
   "execution_count": 454,
   "id": "bd532a35-0803-4225-a105-36645a6aa63c",
   "metadata": {},
   "outputs": [
    {
     "data": {
      "text/plain": [
       "1"
      ]
     },
     "execution_count": 454,
     "metadata": {},
     "output_type": "execute_result"
    }
   ],
   "source": [
    "len((1,))"
   ]
  },
  {
   "cell_type": "code",
   "execution_count": 273,
   "id": "e7bd9bac-c834-4f0b-b8a4-ef740c1408d3",
   "metadata": {},
   "outputs": [],
   "source": [
    "ctx.clear()"
   ]
  },
  {
   "cell_type": "code",
   "execution_count": 276,
   "id": "9a3b5f33-665a-49a5-a602-3d26a2318964",
   "metadata": {},
   "outputs": [],
   "source": [
    "del ctx"
   ]
  },
  {
   "cell_type": "code",
   "execution_count": 279,
   "id": "0b363d9e-ac4b-428f-b904-d013bf7f95f0",
   "metadata": {},
   "outputs": [],
   "source": [
    "class hoge:\n",
    "    fuba = 1\n",
    "\n",
    "    def x(self):\n",
    "        print(self.fuba)\n",
    "    "
   ]
  },
  {
   "cell_type": "code",
   "execution_count": 280,
   "id": "99102e23-2cc7-43c8-b94b-afa9497e34bc",
   "metadata": {},
   "outputs": [],
   "source": [
    "a = hoge()"
   ]
  },
  {
   "cell_type": "code",
   "execution_count": 281,
   "id": "7ff98c19-fea8-4cba-abe5-da35fcde4a4f",
   "metadata": {},
   "outputs": [
    {
     "name": "stdout",
     "output_type": "stream",
     "text": [
      "1\n"
     ]
    }
   ],
   "source": [
    "a.x()"
   ]
  },
  {
   "cell_type": "code",
   "execution_count": 282,
   "id": "e52bfabb-704c-414e-bb38-b57cf5e8e69c",
   "metadata": {},
   "outputs": [],
   "source": [
    "a.fuba = 'asdf'"
   ]
  },
  {
   "cell_type": "code",
   "execution_count": 283,
   "id": "a6aa1437-4a7b-4583-a8b1-f55101551724",
   "metadata": {},
   "outputs": [
    {
     "name": "stdout",
     "output_type": "stream",
     "text": [
      "asdf\n"
     ]
    }
   ],
   "source": [
    "a.x()"
   ]
  },
  {
   "cell_type": "code",
   "execution_count": 284,
   "id": "cbcce21c-6241-4e8a-91ed-c6055c3bda41",
   "metadata": {},
   "outputs": [],
   "source": [
    "b = hoge()"
   ]
  },
  {
   "cell_type": "code",
   "execution_count": 285,
   "id": "50c42844-b77b-4469-8ce5-33f5274ec93d",
   "metadata": {},
   "outputs": [
    {
     "name": "stdout",
     "output_type": "stream",
     "text": [
      "1\n"
     ]
    }
   ],
   "source": [
    "b.x()"
   ]
  },
  {
   "cell_type": "code",
   "execution_count": 286,
   "id": "736759a7-d8e6-44e9-a171-2ad357455981",
   "metadata": {},
   "outputs": [
    {
     "name": "stdout",
     "output_type": "stream",
     "text": [
      "asdf\n"
     ]
    }
   ],
   "source": [
    "a.x()"
   ]
  },
  {
   "cell_type": "code",
   "execution_count": 373,
   "id": "31db920d-a0f3-4d8a-87a5-624c25684365",
   "metadata": {},
   "outputs": [],
   "source": [
    "class asdf:\n",
    "    def __init__(self, namevaluepairlist):\n",
    "        for namevaluepair in namevaluepairlist:\n",
    "            setattr(self, *namevaluepair)"
   ]
  },
  {
   "cell_type": "code",
   "execution_count": 375,
   "id": "2d01eb46-04cb-4e47-b26c-91e8a50f5222",
   "metadata": {},
   "outputs": [],
   "source": [
    "a = asdf((('x', 1),('y', 2),('z', 3)))"
   ]
  },
  {
   "cell_type": "code",
   "execution_count": 379,
   "id": "0f150207-4fa1-45ce-bc63-de821b64963f",
   "metadata": {},
   "outputs": [],
   "source": [
    "a.z += 1234"
   ]
  },
  {
   "cell_type": "code",
   "execution_count": 383,
   "id": "9a2adf0d-7f9b-46d5-ae70-897cb7591d32",
   "metadata": {},
   "outputs": [
    {
     "data": {
      "text/plain": [
       "1237"
      ]
     },
     "execution_count": 383,
     "metadata": {},
     "output_type": "execute_result"
    }
   ],
   "source": [
    "a.z"
   ]
  },
  {
   "cell_type": "code",
   "execution_count": null,
   "id": "f52deb81-141b-4b97-ba8e-f2394884a528",
   "metadata": {},
   "outputs": [],
   "source": []
  }
 ],
 "metadata": {
  "kernelspec": {
   "display_name": "test0",
   "language": "python",
   "name": "test0"
  },
  "language_info": {
   "codemirror_mode": {
    "name": "ipython",
    "version": 3
   },
   "file_extension": ".py",
   "mimetype": "text/x-python",
   "name": "python",
   "nbconvert_exporter": "python",
   "pygments_lexer": "ipython3",
   "version": "3.10.6"
  }
 },
 "nbformat": 4,
 "nbformat_minor": 5
}

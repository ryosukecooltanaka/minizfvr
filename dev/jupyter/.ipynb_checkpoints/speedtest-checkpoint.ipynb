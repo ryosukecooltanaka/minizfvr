{
 "cells": [
  {
   "cell_type": "code",
   "execution_count": 16,
   "id": "413dcde3-f5c8-4040-b45e-eba297c4d982",
   "metadata": {},
   "outputs": [],
   "source": [
    "import cv2\n",
    "import numpy as np\n",
    "from time import time\n",
    "from numba import njit"
   ]
  },
  {
   "cell_type": "code",
   "execution_count": 17,
   "id": "1e609094-90c7-4783-91f7-546e5d4c9ae3",
   "metadata": {},
   "outputs": [],
   "source": [
    "im = np.random.randint(0, 255, (300, 300), dtype=np.uint8)"
   ]
  },
  {
   "cell_type": "code",
   "execution_count": 14,
   "id": "0ec2fd35-f3eb-451c-b080-53b26c12990a",
   "metadata": {},
   "outputs": [
    {
     "name": "stdout",
     "output_type": "stream",
     "text": [
      "11.00 ms per 1000 rep\n"
     ]
    }
   ],
   "source": [
    "t_start = time()\n",
    "\n",
    "for i in range(1000):\n",
    "    cv2.threshold(src=im, thresh=100, maxval=255, type=cv2.THRESH_TOZERO)[1]\n",
    "\n",
    "print('{:0.2f} ms per 1000 rep'.format((time()-t_start)*1000))"
   ]
  },
  {
   "cell_type": "code",
   "execution_count": 15,
   "id": "fe666558-53f6-45bc-8d23-c7be254767d1",
   "metadata": {},
   "outputs": [
    {
     "name": "stdout",
     "output_type": "stream",
     "text": [
      "174.02 ms per 1000 rep\n"
     ]
    }
   ],
   "source": [
    "t_start = time()\n",
    "\n",
    "for i in range(1000):\n",
    "    (im > 100) * (im - 100)\n",
    "\n",
    "print('{:0.2f} ms per 1000 rep'.format((time()-t_start)*1000))"
   ]
  },
  {
   "cell_type": "code",
   "execution_count": 20,
   "id": "c349600a-fdc6-45fc-aa38-e0875f0ff39c",
   "metadata": {},
   "outputs": [
    {
     "name": "stdout",
     "output_type": "stream",
     "text": [
      "272.61 ms per 1000 rep\n"
     ]
    }
   ],
   "source": [
    "@njit\n",
    "def thresh(im):\n",
    "    return (im > 100) * (im - 100)\n",
    "\n",
    "t_start = time()\n",
    "for i in range(1000):\n",
    "    thresh(im)\n",
    "\n",
    "print('{:0.2f} ms per 1000 rep'.format((time()-t_start)*1000))"
   ]
  },
  {
   "cell_type": "code",
   "execution_count": null,
   "id": "0f817c38-7cf4-4c78-9854-e6fbd5d6ca02",
   "metadata": {},
   "outputs": [],
   "source": []
  }
 ],
 "metadata": {
  "kernelspec": {
   "display_name": "test0",
   "language": "python",
   "name": "test0"
  },
  "language_info": {
   "codemirror_mode": {
    "name": "ipython",
    "version": 3
   },
   "file_extension": ".py",
   "mimetype": "text/x-python",
   "name": "python",
   "nbconvert_exporter": "python",
   "pygments_lexer": "ipython3",
   "version": "3.10.6"
  }
 },
 "nbformat": 4,
 "nbformat_minor": 5
}
